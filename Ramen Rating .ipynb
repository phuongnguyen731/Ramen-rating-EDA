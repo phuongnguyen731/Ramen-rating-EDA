{
 "cells": [
  {
   "cell_type": "markdown",
   "id": "7d122bfd",
   "metadata": {},
   "source": [
    "# Overview\n",
    "* Investigate data\n",
    "* Ask questions\n",
    "* Clean data:\n",
    "(Incorrect data types, missing data, and inaccurate data are all problems that we'd need to fix before analyzing this data)\n",
    "* Explore data\n",
    "* Model predict\n",
    "* Conclude\n",
    "* Communication"
   ]
  },
  {
   "cell_type": "markdown",
   "id": "7d917ef7",
   "metadata": {},
   "source": [
    "\n",
    "# Investigate Data:\n",
    "\n",
    "The Ramen Rater is a product review website for the hardcore ramen enthusiast (or \"ramenphile\")\n",
    "\n",
    "### Using Documentation to Understand Data\n",
    "\n",
    "Each record in the dataset is a single ramen product review.\n",
    "Match the meaning for each feature\n",
    "\n",
    "* Brand: Brand of Ramen\n",
    "* Variety: the product name (can show the flavor, outstanding ingredients of Ramen)\n",
    "* Country: Country where ramen is produced\n",
    "* Style: how Reman is packaged: Cup/ Bowl/ Tray...\n",
    "* Stars indicate the ramen quality, as assessed by the reviewer, on a 5-point scale ( from 0 to 5 start)"
   ]
  },
  {
   "cell_type": "markdown",
   "id": "e555b17d",
   "metadata": {},
   "source": [
    "# Ask questions :\n",
    "\n",
    "Analyst \n",
    "1. What country produces the highest amount of ramen products \n",
    "2. Whats the country with the highest rating products \n",
    "3. Is there a significant difference between brand average scores?\n",
    "4. Does the product style affect the score directly? Does a certain kind of product style mean a lower score?\n",
    "5. What ingredients or flavors are most commonly advertised on ramen package labels?\n",
    "6. Do the scores follow a normal distribution, or are the scores skewed? What's the brand that skews the distribution?\n",
    "\n",
    "Engine\n",
    "\n",
    "1. Extract the meat type from the variety feature\n",
    "2. Extract the noodle type from the variety feature\n",
    "3. Extract the presence of the word  'Flavor' from the variety feature\n",
    "4. Extract the presence of the word  'Spicy' to declare a product as spicy or not\n"
   ]
  },
  {
   "cell_type": "markdown",
   "id": "d0d2342f",
   "metadata": {},
   "source": [
    "# Assess data :"
   ]
  },
  {
   "cell_type": "code",
   "execution_count": 1,
   "id": "7f834813",
   "metadata": {},
   "outputs": [
    {
     "data": {
      "text/html": [
       "        <script type=\"text/javascript\">\n",
       "        window.PlotlyConfig = {MathJaxConfig: 'local'};\n",
       "        if (window.MathJax) {MathJax.Hub.Config({SVG: {font: \"STIX-Web\"}});}\n",
       "        if (typeof require !== 'undefined') {\n",
       "        require.undef(\"plotly\");\n",
       "        requirejs.config({\n",
       "            paths: {\n",
       "                'plotly': ['https://cdn.plot.ly/plotly-latest.min']\n",
       "            }\n",
       "        });\n",
       "        require(['plotly'], function(Plotly) {\n",
       "            window._Plotly = Plotly;\n",
       "        });\n",
       "        }\n",
       "        </script>\n",
       "        "
      ]
     },
     "metadata": {},
     "output_type": "display_data"
    }
   ],
   "source": [
    "import numpy as np\n",
    "import pandas as pd\n",
    "import warnings\n",
    "warnings.filterwarnings('ignore')\n",
    "import seaborn as sns \n",
    "import matplotlib.pyplot as plt\n",
    "%matplotlib inline\n",
    "import statistics\n",
    "from statistics import mode\n",
    "import re\n",
    "from scipy import stats\n",
    "import plotly\n",
    "from plotly.offline import download_plotlyjs, init_notebook_mode, plot, iplot\n",
    "import cufflinks as cf\n",
    "cf.go_offline()\n",
    "from sklearn.model_selection import train_test_split,cross_val_score\n",
    "from sklearn import metrics\n",
    "from sklearn.metrics import mean_squared_error,r2_score\n",
    "import lightgbm as ltb"
   ]
  },
  {
   "cell_type": "code",
   "execution_count": 2,
   "id": "d61fcfcc",
   "metadata": {},
   "outputs": [
    {
     "data": {
      "text/html": [
       "<div>\n",
       "<style scoped>\n",
       "    .dataframe tbody tr th:only-of-type {\n",
       "        vertical-align: middle;\n",
       "    }\n",
       "\n",
       "    .dataframe tbody tr th {\n",
       "        vertical-align: top;\n",
       "    }\n",
       "\n",
       "    .dataframe thead th {\n",
       "        text-align: right;\n",
       "    }\n",
       "</style>\n",
       "<table border=\"1\" class=\"dataframe\">\n",
       "  <thead>\n",
       "    <tr style=\"text-align: right;\">\n",
       "      <th></th>\n",
       "      <th>Review #</th>\n",
       "      <th>Brand</th>\n",
       "      <th>Variety</th>\n",
       "      <th>Style</th>\n",
       "      <th>Country</th>\n",
       "      <th>Stars</th>\n",
       "      <th>Top Ten</th>\n",
       "    </tr>\n",
       "  </thead>\n",
       "  <tbody>\n",
       "    <tr>\n",
       "      <th>0</th>\n",
       "      <td>2580</td>\n",
       "      <td>New Touch</td>\n",
       "      <td>T's Restaurant Tantanmen</td>\n",
       "      <td>Cup</td>\n",
       "      <td>Japan</td>\n",
       "      <td>3.75</td>\n",
       "      <td>NaN</td>\n",
       "    </tr>\n",
       "    <tr>\n",
       "      <th>1</th>\n",
       "      <td>2579</td>\n",
       "      <td>Just Way</td>\n",
       "      <td>Noodles Spicy Hot Sesame Spicy Hot Sesame Guan...</td>\n",
       "      <td>Pack</td>\n",
       "      <td>Taiwan</td>\n",
       "      <td>1</td>\n",
       "      <td>NaN</td>\n",
       "    </tr>\n",
       "    <tr>\n",
       "      <th>2</th>\n",
       "      <td>2578</td>\n",
       "      <td>Nissin</td>\n",
       "      <td>Cup Noodles Chicken Vegetable</td>\n",
       "      <td>Cup</td>\n",
       "      <td>USA</td>\n",
       "      <td>2.25</td>\n",
       "      <td>NaN</td>\n",
       "    </tr>\n",
       "    <tr>\n",
       "      <th>3</th>\n",
       "      <td>2577</td>\n",
       "      <td>Wei Lih</td>\n",
       "      <td>GGE Ramen Snack Tomato Flavor</td>\n",
       "      <td>Pack</td>\n",
       "      <td>Taiwan</td>\n",
       "      <td>2.75</td>\n",
       "      <td>NaN</td>\n",
       "    </tr>\n",
       "    <tr>\n",
       "      <th>4</th>\n",
       "      <td>2576</td>\n",
       "      <td>Ching's Secret</td>\n",
       "      <td>Singapore Curry</td>\n",
       "      <td>Pack</td>\n",
       "      <td>India</td>\n",
       "      <td>3.75</td>\n",
       "      <td>NaN</td>\n",
       "    </tr>\n",
       "  </tbody>\n",
       "</table>\n",
       "</div>"
      ],
      "text/plain": [
       "   Review #           Brand  \\\n",
       "0      2580       New Touch   \n",
       "1      2579        Just Way   \n",
       "2      2578          Nissin   \n",
       "3      2577         Wei Lih   \n",
       "4      2576  Ching's Secret   \n",
       "\n",
       "                                             Variety Style Country Stars  \\\n",
       "0                          T's Restaurant Tantanmen    Cup   Japan  3.75   \n",
       "1  Noodles Spicy Hot Sesame Spicy Hot Sesame Guan...  Pack  Taiwan     1   \n",
       "2                      Cup Noodles Chicken Vegetable   Cup     USA  2.25   \n",
       "3                      GGE Ramen Snack Tomato Flavor  Pack  Taiwan  2.75   \n",
       "4                                    Singapore Curry  Pack   India  3.75   \n",
       "\n",
       "  Top Ten  \n",
       "0     NaN  \n",
       "1     NaN  \n",
       "2     NaN  \n",
       "3     NaN  \n",
       "4     NaN  "
      ]
     },
     "execution_count": 2,
     "metadata": {},
     "output_type": "execute_result"
    }
   ],
   "source": [
    "# import the data\n",
    "raw_df = pd.read_csv('ramen-ratings.csv')\n",
    "raw_df.head()"
   ]
  },
  {
   "cell_type": "code",
   "execution_count": 3,
   "id": "c8205b2c",
   "metadata": {},
   "outputs": [
    {
     "name": "stdout",
     "output_type": "stream",
     "text": [
      "<class 'pandas.core.frame.DataFrame'>\n",
      "RangeIndex: 2580 entries, 0 to 2579\n",
      "Data columns (total 7 columns):\n",
      " #   Column    Non-Null Count  Dtype \n",
      "---  ------    --------------  ----- \n",
      " 0   Review #  2580 non-null   int64 \n",
      " 1   Brand     2580 non-null   object\n",
      " 2   Variety   2580 non-null   object\n",
      " 3   Style     2578 non-null   object\n",
      " 4   Country   2580 non-null   object\n",
      " 5   Stars     2580 non-null   object\n",
      " 6   Top Ten   41 non-null     object\n",
      "dtypes: int64(1), object(6)\n",
      "memory usage: 141.2+ KB\n"
     ]
    }
   ],
   "source": [
    "#Check info of data\n",
    "raw_df.info()"
   ]
  },
  {
   "cell_type": "markdown",
   "id": "bffd715a",
   "metadata": {},
   "source": [
    "#####  which this info I see that the data type of Start need to ajust to float"
   ]
  },
  {
   "cell_type": "code",
   "execution_count": 4,
   "id": "2a904cd9",
   "metadata": {},
   "outputs": [
    {
     "data": {
      "text/plain": [
       "Review #       0\n",
       "Brand          0\n",
       "Variety        0\n",
       "Style          2\n",
       "Country        0\n",
       "Stars          0\n",
       "Top Ten     2539\n",
       "dtype: int64"
      ]
     },
     "execution_count": 4,
     "metadata": {},
     "output_type": "execute_result"
    }
   ],
   "source": [
    "# check null of  the dataset\n",
    "raw_df.isnull().sum()"
   ]
  },
  {
   "cell_type": "code",
   "execution_count": 5,
   "id": "b4e474c3",
   "metadata": {},
   "outputs": [
    {
     "data": {
      "text/plain": [
       "0"
      ]
     },
     "execution_count": 5,
     "metadata": {},
     "output_type": "execute_result"
    }
   ],
   "source": [
    "# check duplicates of the dataset \n",
    "raw_df.duplicated().sum()"
   ]
  },
  {
   "cell_type": "code",
   "execution_count": 6,
   "id": "2d419139",
   "metadata": {},
   "outputs": [
    {
     "data": {
      "text/plain": [
       "Review #    2580\n",
       "Brand        355\n",
       "Variety     2413\n",
       "Style          7\n",
       "Country       38\n",
       "Stars         51\n",
       "Top Ten       38\n",
       "dtype: int64"
      ]
     },
     "execution_count": 6,
     "metadata": {},
     "output_type": "execute_result"
    }
   ],
   "source": [
    "# check unique numbers for each column in dataset\n",
    "raw_df.nunique()"
   ]
  },
  {
   "cell_type": "code",
   "execution_count": 7,
   "id": "480b16cd",
   "metadata": {},
   "outputs": [
    {
     "data": {
      "text/plain": [
       "4          384\n",
       "5          369\n",
       "3.75       350\n",
       "3.5        326\n",
       "3          173\n",
       "3.25       170\n",
       "4.25       143\n",
       "4.5        132\n",
       "2.75        85\n",
       "2           68\n",
       "2.5         67\n",
       "4.75        64\n",
       "1.5         37\n",
       "1.75        27\n",
       "0           26\n",
       "1           26\n",
       "2.25        21\n",
       "0.5         14\n",
       "0.25        11\n",
       "1.25        10\n",
       "5.0         10\n",
       "3.50         9\n",
       "5.00         7\n",
       "4.00         6\n",
       "4.3          4\n",
       "Unrated      3\n",
       "4.50         3\n",
       "4.0          3\n",
       "3.8          3\n",
       "2.9          2\n",
       "3.0          2\n",
       "1.1          2\n",
       "4.125        2\n",
       "2.3          2\n",
       "2.8          2\n",
       "3.1          2\n",
       "0.75         1\n",
       "3.4          1\n",
       "0.9          1\n",
       "3.6          1\n",
       "3.3          1\n",
       "3.125        1\n",
       "1.8          1\n",
       "0.1          1\n",
       "3.7          1\n",
       "2.1          1\n",
       "2.125        1\n",
       "3.00         1\n",
       "3.65         1\n",
       "3.2          1\n",
       "2.85         1\n",
       "Name: Stars, dtype: int64"
      ]
     },
     "execution_count": 7,
     "metadata": {},
     "output_type": "execute_result"
    }
   ],
   "source": [
    "# Check value of \"Stars\" columns\n",
    "raw_df.Stars.value_counts()"
   ]
  },
  {
   "cell_type": "markdown",
   "id": "4c8df6b7",
   "metadata": {},
   "source": [
    "##### There have the value \"unrated\" >> need to drop"
   ]
  },
  {
   "cell_type": "markdown",
   "id": "8995208d",
   "metadata": {},
   "source": [
    "# Clean Data"
   ]
  },
  {
   "cell_type": "code",
   "execution_count": 8,
   "id": "f341f05a",
   "metadata": {},
   "outputs": [
    {
     "data": {
      "text/plain": [
       "array(['Review #', 'Brand', 'Variety', 'Style', 'Country', 'Stars',\n",
       "       'Top Ten'], dtype=object)"
      ]
     },
     "execution_count": 8,
     "metadata": {},
     "output_type": "execute_result"
    }
   ],
   "source": [
    "# Check column name\n",
    "raw_df.columns.values"
   ]
  },
  {
   "cell_type": "markdown",
   "id": "b4f2d745",
   "metadata": {},
   "source": [
    "### 1. Rename Columns\n",
    "* Change all column names to lower.\n",
    "* Remove all leading / trailing spaces in column names (if any). Replace the space between words with \"_\""
   ]
  },
  {
   "cell_type": "code",
   "execution_count": 9,
   "id": "723c3fa8",
   "metadata": {},
   "outputs": [
    {
     "data": {
      "text/html": [
       "<div>\n",
       "<style scoped>\n",
       "    .dataframe tbody tr th:only-of-type {\n",
       "        vertical-align: middle;\n",
       "    }\n",
       "\n",
       "    .dataframe tbody tr th {\n",
       "        vertical-align: top;\n",
       "    }\n",
       "\n",
       "    .dataframe thead th {\n",
       "        text-align: right;\n",
       "    }\n",
       "</style>\n",
       "<table border=\"1\" class=\"dataframe\">\n",
       "  <thead>\n",
       "    <tr style=\"text-align: right;\">\n",
       "      <th></th>\n",
       "      <th>review_#</th>\n",
       "      <th>brand</th>\n",
       "      <th>variety</th>\n",
       "      <th>style</th>\n",
       "      <th>country</th>\n",
       "      <th>stars</th>\n",
       "      <th>top_ten</th>\n",
       "    </tr>\n",
       "  </thead>\n",
       "  <tbody>\n",
       "    <tr>\n",
       "      <th>0</th>\n",
       "      <td>2580</td>\n",
       "      <td>New Touch</td>\n",
       "      <td>T's Restaurant Tantanmen</td>\n",
       "      <td>Cup</td>\n",
       "      <td>Japan</td>\n",
       "      <td>3.75</td>\n",
       "      <td>NaN</td>\n",
       "    </tr>\n",
       "  </tbody>\n",
       "</table>\n",
       "</div>"
      ],
      "text/plain": [
       "   review_#      brand                    variety style country stars top_ten\n",
       "0      2580  New Touch  T's Restaurant Tantanmen    Cup   Japan  3.75     NaN"
      ]
     },
     "execution_count": 9,
     "metadata": {},
     "output_type": "execute_result"
    }
   ],
   "source": [
    "raw_df.rename(columns = lambda x: x.strip().lower().replace(\" \",\"_\"),inplace = True)\n",
    "#cofirm changes \n",
    "raw_df.head(1)"
   ]
  },
  {
   "cell_type": "markdown",
   "id": "f1e83395",
   "metadata": {},
   "source": [
    "### 2. Fill Nulls\n",
    "Drop any rows in both datasets that contain missing values"
   ]
  },
  {
   "cell_type": "code",
   "execution_count": 10,
   "id": "4d3d6de9",
   "metadata": {
    "scrolled": false
   },
   "outputs": [
    {
     "data": {
      "text/html": [
       "<div>\n",
       "<style scoped>\n",
       "    .dataframe tbody tr th:only-of-type {\n",
       "        vertical-align: middle;\n",
       "    }\n",
       "\n",
       "    .dataframe tbody tr th {\n",
       "        vertical-align: top;\n",
       "    }\n",
       "\n",
       "    .dataframe thead th {\n",
       "        text-align: right;\n",
       "    }\n",
       "</style>\n",
       "<table border=\"1\" class=\"dataframe\">\n",
       "  <thead>\n",
       "    <tr style=\"text-align: right;\">\n",
       "      <th></th>\n",
       "      <th>review_#</th>\n",
       "      <th>brand</th>\n",
       "      <th>variety</th>\n",
       "      <th>style</th>\n",
       "      <th>country</th>\n",
       "      <th>stars</th>\n",
       "      <th>top_ten</th>\n",
       "    </tr>\n",
       "  </thead>\n",
       "  <tbody>\n",
       "    <tr>\n",
       "      <th>2152</th>\n",
       "      <td>428</td>\n",
       "      <td>Kamfen</td>\n",
       "      <td>E Menm Chicken</td>\n",
       "      <td>NaN</td>\n",
       "      <td>China</td>\n",
       "      <td>3.75</td>\n",
       "      <td>NaN</td>\n",
       "    </tr>\n",
       "    <tr>\n",
       "      <th>2442</th>\n",
       "      <td>138</td>\n",
       "      <td>Unif</td>\n",
       "      <td>100 Furong Shrimp</td>\n",
       "      <td>NaN</td>\n",
       "      <td>Taiwan</td>\n",
       "      <td>3</td>\n",
       "      <td>NaN</td>\n",
       "    </tr>\n",
       "  </tbody>\n",
       "</table>\n",
       "</div>"
      ],
      "text/plain": [
       "      review_#   brand            variety style country stars top_ten\n",
       "2152       428  Kamfen     E Menm Chicken   NaN   China  3.75     NaN\n",
       "2442       138    Unif  100 Furong Shrimp   NaN  Taiwan     3     NaN"
      ]
     },
     "execution_count": 10,
     "metadata": {},
     "output_type": "execute_result"
    }
   ],
   "source": [
    "# see what row contain null value\n",
    "raw_df_null = raw_df[raw_df['style'].isnull()]\n",
    "raw_df_null"
   ]
  },
  {
   "cell_type": "code",
   "execution_count": 11,
   "id": "be36215c",
   "metadata": {},
   "outputs": [
    {
     "data": {
      "text/plain": [
       "review_#       0\n",
       "brand          0\n",
       "variety        0\n",
       "style          0\n",
       "country        0\n",
       "stars          0\n",
       "top_ten     2539\n",
       "dtype: int64"
      ]
     },
     "execution_count": 11,
     "metadata": {},
     "output_type": "execute_result"
    }
   ],
   "source": [
    "# fill null data\n",
    "raw_df['style'].fillna(raw_df['style'].mode()[0],inplace=True)\n",
    "# check change \n",
    "raw_df.isnull().sum()"
   ]
  },
  {
   "cell_type": "markdown",
   "id": "9762e360",
   "metadata": {},
   "source": [
    "### 3. Fixing Data Types\n",
    "Change datatype of 'start' columns from string to float"
   ]
  },
  {
   "cell_type": "code",
   "execution_count": 12,
   "id": "87aa7558",
   "metadata": {},
   "outputs": [],
   "source": [
    "# Keep values in \"stars\" different with \"Unrated\"\n",
    "raw_df = raw_df[raw_df['stars'] != \"Unrated\"]"
   ]
  },
  {
   "cell_type": "code",
   "execution_count": 13,
   "id": "55631712",
   "metadata": {},
   "outputs": [],
   "source": [
    "# Change data type\n",
    "raw_df['stars'] = raw_df['stars'].astype(float)"
   ]
  },
  {
   "cell_type": "code",
   "execution_count": 14,
   "id": "7647ebcf",
   "metadata": {},
   "outputs": [
    {
     "name": "stdout",
     "output_type": "stream",
     "text": [
      "<class 'pandas.core.frame.DataFrame'>\n",
      "Int64Index: 2577 entries, 0 to 2579\n",
      "Data columns (total 7 columns):\n",
      " #   Column    Non-Null Count  Dtype  \n",
      "---  ------    --------------  -----  \n",
      " 0   review_#  2577 non-null   int64  \n",
      " 1   brand     2577 non-null   object \n",
      " 2   variety   2577 non-null   object \n",
      " 3   style     2577 non-null   object \n",
      " 4   country   2577 non-null   object \n",
      " 5   stars     2577 non-null   float64\n",
      " 6   top_ten   41 non-null     object \n",
      "dtypes: float64(1), int64(1), object(5)\n",
      "memory usage: 161.1+ KB\n"
     ]
    }
   ],
   "source": [
    "raw_df.info()"
   ]
  },
  {
   "cell_type": "markdown",
   "id": "08d06c9c",
   "metadata": {},
   "source": [
    "### 4. Change style, brand, country to specific value\n"
   ]
  },
  {
   "cell_type": "code",
   "execution_count": 15,
   "id": "b8bbde2c",
   "metadata": {},
   "outputs": [],
   "source": [
    "# make copy of df\n",
    "df = raw_df.copy()"
   ]
  },
  {
   "cell_type": "code",
   "execution_count": 16,
   "id": "5ef208cf",
   "metadata": {},
   "outputs": [],
   "source": [
    "# Creat a dict of value of style, brand, country columns\n",
    "dict_style = {df['style'].unique()[i]: i+1 for i in range(0,len(df['style'].unique()))} ### .style is format of table \n",
    "dict_brand = {df.brand.unique()[i]: i+1 for i in range(0,len(df.brand.unique()))}\n",
    "dict_country = {df.country.unique()[i]: i+1 for i in range(0,len(df.country.unique()))}"
   ]
  },
  {
   "cell_type": "code",
   "execution_count": 17,
   "id": "d45f93e8",
   "metadata": {},
   "outputs": [
    {
     "data": {
      "text/html": [
       "<div>\n",
       "<style scoped>\n",
       "    .dataframe tbody tr th:only-of-type {\n",
       "        vertical-align: middle;\n",
       "    }\n",
       "\n",
       "    .dataframe tbody tr th {\n",
       "        vertical-align: top;\n",
       "    }\n",
       "\n",
       "    .dataframe thead th {\n",
       "        text-align: right;\n",
       "    }\n",
       "</style>\n",
       "<table border=\"1\" class=\"dataframe\">\n",
       "  <thead>\n",
       "    <tr style=\"text-align: right;\">\n",
       "      <th></th>\n",
       "      <th>review_#</th>\n",
       "      <th>brand</th>\n",
       "      <th>variety</th>\n",
       "      <th>style</th>\n",
       "      <th>country</th>\n",
       "      <th>stars</th>\n",
       "      <th>top_ten</th>\n",
       "    </tr>\n",
       "  </thead>\n",
       "  <tbody>\n",
       "    <tr>\n",
       "      <th>0</th>\n",
       "      <td>2580</td>\n",
       "      <td>1</td>\n",
       "      <td>T's Restaurant Tantanmen</td>\n",
       "      <td>Cup</td>\n",
       "      <td>1</td>\n",
       "      <td>3.75</td>\n",
       "      <td>NaN</td>\n",
       "    </tr>\n",
       "    <tr>\n",
       "      <th>1</th>\n",
       "      <td>2579</td>\n",
       "      <td>2</td>\n",
       "      <td>Noodles Spicy Hot Sesame Spicy Hot Sesame Guan...</td>\n",
       "      <td>Pack</td>\n",
       "      <td>2</td>\n",
       "      <td>1.00</td>\n",
       "      <td>NaN</td>\n",
       "    </tr>\n",
       "    <tr>\n",
       "      <th>2</th>\n",
       "      <td>2578</td>\n",
       "      <td>3</td>\n",
       "      <td>Cup Noodles Chicken Vegetable</td>\n",
       "      <td>Cup</td>\n",
       "      <td>3</td>\n",
       "      <td>2.25</td>\n",
       "      <td>NaN</td>\n",
       "    </tr>\n",
       "    <tr>\n",
       "      <th>3</th>\n",
       "      <td>2577</td>\n",
       "      <td>4</td>\n",
       "      <td>GGE Ramen Snack Tomato Flavor</td>\n",
       "      <td>Pack</td>\n",
       "      <td>2</td>\n",
       "      <td>2.75</td>\n",
       "      <td>NaN</td>\n",
       "    </tr>\n",
       "    <tr>\n",
       "      <th>4</th>\n",
       "      <td>2576</td>\n",
       "      <td>5</td>\n",
       "      <td>Singapore Curry</td>\n",
       "      <td>Pack</td>\n",
       "      <td>4</td>\n",
       "      <td>3.75</td>\n",
       "      <td>NaN</td>\n",
       "    </tr>\n",
       "  </tbody>\n",
       "</table>\n",
       "</div>"
      ],
      "text/plain": [
       "   review_#  brand                                            variety style  \\\n",
       "0      2580      1                          T's Restaurant Tantanmen    Cup   \n",
       "1      2579      2  Noodles Spicy Hot Sesame Spicy Hot Sesame Guan...  Pack   \n",
       "2      2578      3                      Cup Noodles Chicken Vegetable   Cup   \n",
       "3      2577      4                      GGE Ramen Snack Tomato Flavor  Pack   \n",
       "4      2576      5                                    Singapore Curry  Pack   \n",
       "\n",
       "   country  stars top_ten  \n",
       "0        1   3.75     NaN  \n",
       "1        2   1.00     NaN  \n",
       "2        3   2.25     NaN  \n",
       "3        2   2.75     NaN  \n",
       "4        4   3.75     NaN  "
      ]
     },
     "execution_count": 17,
     "metadata": {},
     "output_type": "execute_result"
    }
   ],
   "source": [
    "# Replace \n",
    "df.brand.replace(dict_brand,inplace = True)\n",
    "df.country.replace(dict_country,inplace = True)\n",
    "df.head()"
   ]
  },
  {
   "cell_type": "markdown",
   "id": "f7b6f1c2",
   "metadata": {},
   "source": [
    "### 5.  Extract value about meat, type of noodle, flavor and spicy from variety column"
   ]
  },
  {
   "cell_type": "code",
   "execution_count": 18,
   "id": "acac71d8",
   "metadata": {},
   "outputs": [
    {
     "data": {
      "text/html": [
       "<div>\n",
       "<style scoped>\n",
       "    .dataframe tbody tr th:only-of-type {\n",
       "        vertical-align: middle;\n",
       "    }\n",
       "\n",
       "    .dataframe tbody tr th {\n",
       "        vertical-align: top;\n",
       "    }\n",
       "\n",
       "    .dataframe thead th {\n",
       "        text-align: right;\n",
       "    }\n",
       "</style>\n",
       "<table border=\"1\" class=\"dataframe\">\n",
       "  <thead>\n",
       "    <tr style=\"text-align: right;\">\n",
       "      <th></th>\n",
       "      <th>review_#</th>\n",
       "      <th>brand</th>\n",
       "      <th>variety</th>\n",
       "      <th>style</th>\n",
       "      <th>country</th>\n",
       "      <th>stars</th>\n",
       "      <th>top_ten</th>\n",
       "      <th>contain_flavor</th>\n",
       "      <th>is_spicy</th>\n",
       "      <th>meat_types</th>\n",
       "      <th>noodle_types</th>\n",
       "    </tr>\n",
       "  </thead>\n",
       "  <tbody>\n",
       "    <tr>\n",
       "      <th>0</th>\n",
       "      <td>2580</td>\n",
       "      <td>1</td>\n",
       "      <td>T's Restaurant Tantanmen</td>\n",
       "      <td>Cup</td>\n",
       "      <td>1</td>\n",
       "      <td>3.75</td>\n",
       "      <td>NaN</td>\n",
       "      <td>0</td>\n",
       "      <td>0</td>\n",
       "      <td>unspecified</td>\n",
       "      <td>unspecified</td>\n",
       "    </tr>\n",
       "    <tr>\n",
       "      <th>1</th>\n",
       "      <td>2579</td>\n",
       "      <td>2</td>\n",
       "      <td>Noodles Spicy Hot Sesame Spicy Hot Sesame Guan...</td>\n",
       "      <td>Pack</td>\n",
       "      <td>2</td>\n",
       "      <td>1.00</td>\n",
       "      <td>NaN</td>\n",
       "      <td>0</td>\n",
       "      <td>1</td>\n",
       "      <td>unspecified</td>\n",
       "      <td>noodles</td>\n",
       "    </tr>\n",
       "    <tr>\n",
       "      <th>2</th>\n",
       "      <td>2578</td>\n",
       "      <td>3</td>\n",
       "      <td>Cup Noodles Chicken Vegetable</td>\n",
       "      <td>Cup</td>\n",
       "      <td>3</td>\n",
       "      <td>2.25</td>\n",
       "      <td>NaN</td>\n",
       "      <td>0</td>\n",
       "      <td>0</td>\n",
       "      <td>chicken</td>\n",
       "      <td>noodles</td>\n",
       "    </tr>\n",
       "    <tr>\n",
       "      <th>3</th>\n",
       "      <td>2577</td>\n",
       "      <td>4</td>\n",
       "      <td>GGE Ramen Snack Tomato Flavor</td>\n",
       "      <td>Pack</td>\n",
       "      <td>2</td>\n",
       "      <td>2.75</td>\n",
       "      <td>NaN</td>\n",
       "      <td>1</td>\n",
       "      <td>0</td>\n",
       "      <td>unspecified</td>\n",
       "      <td>ramen</td>\n",
       "    </tr>\n",
       "    <tr>\n",
       "      <th>4</th>\n",
       "      <td>2576</td>\n",
       "      <td>5</td>\n",
       "      <td>Singapore Curry</td>\n",
       "      <td>Pack</td>\n",
       "      <td>4</td>\n",
       "      <td>3.75</td>\n",
       "      <td>NaN</td>\n",
       "      <td>0</td>\n",
       "      <td>0</td>\n",
       "      <td>unspecified</td>\n",
       "      <td>unspecified</td>\n",
       "    </tr>\n",
       "  </tbody>\n",
       "</table>\n",
       "</div>"
      ],
      "text/plain": [
       "   review_#  brand                                            variety style  \\\n",
       "0      2580      1                          T's Restaurant Tantanmen    Cup   \n",
       "1      2579      2  Noodles Spicy Hot Sesame Spicy Hot Sesame Guan...  Pack   \n",
       "2      2578      3                      Cup Noodles Chicken Vegetable   Cup   \n",
       "3      2577      4                      GGE Ramen Snack Tomato Flavor  Pack   \n",
       "4      2576      5                                    Singapore Curry  Pack   \n",
       "\n",
       "   country  stars top_ten  contain_flavor  is_spicy   meat_types noodle_types  \n",
       "0        1   3.75     NaN               0         0  unspecified  unspecified  \n",
       "1        2   1.00     NaN               0         1  unspecified      noodles  \n",
       "2        3   2.25     NaN               0         0      chicken      noodles  \n",
       "3        2   2.75     NaN               1         0  unspecified        ramen  \n",
       "4        4   3.75     NaN               0         0  unspecified  unspecified  "
      ]
     },
     "execution_count": 18,
     "metadata": {},
     "output_type": "execute_result"
    }
   ],
   "source": [
    "# Creat funtion by words contain in variety column.\n",
    "meat_types = ['chicken','beef','duck','pork','shrimp','turkey']\n",
    "noodle_types = ['udon','soba','ramen','egg','shirataki','hokkien','noodles']\n",
    "\n",
    "def meat_check(var): \n",
    "    content = var.lower()\n",
    "    for meat in meat_types: \n",
    "        if meat in content: \n",
    "            return meat \n",
    "    return 'unspecified'\n",
    "        \n",
    "def noodle_check(var):\n",
    "    content = var.lower()\n",
    "    for noodle_type in noodle_types:\n",
    "        if noodle_type in content: \n",
    "            return noodle_type\n",
    "    return 'unspecified'\n",
    "\n",
    "def is_spicy(var):\n",
    "    content = var.lower()\n",
    "    spc = ['spicy','hot','flaming','chili']\n",
    "    for t in spc:\n",
    "        if t in content:\n",
    "            return 1\n",
    "    return 0\n",
    "\n",
    "def contain_flavor(var):\n",
    "    content = var.lower()\n",
    "    if \"flavor\" in content:\n",
    "        return 1\n",
    "    else:\n",
    "        return 0\n",
    "# Apply function to df \n",
    "df['contain_flavor'] = df.variety.apply(contain_flavor)\n",
    "df['is_spicy'] = df.variety.apply(is_spicy)\n",
    "df['meat_types'] = df.variety.apply(meat_check)\n",
    "df['noodle_types'] = df.variety.apply(noodle_check)\n",
    "df.head()"
   ]
  },
  {
   "cell_type": "code",
   "execution_count": 19,
   "id": "dcb49f5c",
   "metadata": {
    "scrolled": true
   },
   "outputs": [
    {
     "data": {
      "text/html": [
       "<div>\n",
       "<style scoped>\n",
       "    .dataframe tbody tr th:only-of-type {\n",
       "        vertical-align: middle;\n",
       "    }\n",
       "\n",
       "    .dataframe tbody tr th {\n",
       "        vertical-align: top;\n",
       "    }\n",
       "\n",
       "    .dataframe thead th {\n",
       "        text-align: right;\n",
       "    }\n",
       "</style>\n",
       "<table border=\"1\" class=\"dataframe\">\n",
       "  <thead>\n",
       "    <tr style=\"text-align: right;\">\n",
       "      <th></th>\n",
       "      <th>review_#</th>\n",
       "      <th>brand</th>\n",
       "      <th>variety</th>\n",
       "      <th>style</th>\n",
       "      <th>country</th>\n",
       "      <th>stars</th>\n",
       "      <th>top_ten</th>\n",
       "      <th>contain_flavor</th>\n",
       "      <th>is_spicy</th>\n",
       "      <th>meat_types</th>\n",
       "      <th>noodle_types</th>\n",
       "    </tr>\n",
       "  </thead>\n",
       "  <tbody>\n",
       "    <tr>\n",
       "      <th>0</th>\n",
       "      <td>2580</td>\n",
       "      <td>1</td>\n",
       "      <td>T's Restaurant Tantanmen</td>\n",
       "      <td>Cup</td>\n",
       "      <td>1</td>\n",
       "      <td>3.75</td>\n",
       "      <td>NaN</td>\n",
       "      <td>0</td>\n",
       "      <td>0</td>\n",
       "      <td>unspecified</td>\n",
       "      <td>unspecified</td>\n",
       "    </tr>\n",
       "    <tr>\n",
       "      <th>1</th>\n",
       "      <td>2579</td>\n",
       "      <td>2</td>\n",
       "      <td>Noodles Spicy Hot Sesame Spicy Hot Sesame Guan...</td>\n",
       "      <td>Pack</td>\n",
       "      <td>2</td>\n",
       "      <td>1.00</td>\n",
       "      <td>NaN</td>\n",
       "      <td>0</td>\n",
       "      <td>1</td>\n",
       "      <td>unspecified</td>\n",
       "      <td>noodles</td>\n",
       "    </tr>\n",
       "    <tr>\n",
       "      <th>2</th>\n",
       "      <td>2578</td>\n",
       "      <td>3</td>\n",
       "      <td>Cup Noodles Chicken Vegetable</td>\n",
       "      <td>Cup</td>\n",
       "      <td>3</td>\n",
       "      <td>2.25</td>\n",
       "      <td>NaN</td>\n",
       "      <td>0</td>\n",
       "      <td>0</td>\n",
       "      <td>chicken</td>\n",
       "      <td>noodles</td>\n",
       "    </tr>\n",
       "    <tr>\n",
       "      <th>3</th>\n",
       "      <td>2577</td>\n",
       "      <td>4</td>\n",
       "      <td>GGE Ramen Snack Tomato Flavor</td>\n",
       "      <td>Pack</td>\n",
       "      <td>2</td>\n",
       "      <td>2.75</td>\n",
       "      <td>NaN</td>\n",
       "      <td>1</td>\n",
       "      <td>0</td>\n",
       "      <td>unspecified</td>\n",
       "      <td>ramen</td>\n",
       "    </tr>\n",
       "    <tr>\n",
       "      <th>4</th>\n",
       "      <td>2576</td>\n",
       "      <td>5</td>\n",
       "      <td>Singapore Curry</td>\n",
       "      <td>Pack</td>\n",
       "      <td>4</td>\n",
       "      <td>3.75</td>\n",
       "      <td>NaN</td>\n",
       "      <td>0</td>\n",
       "      <td>0</td>\n",
       "      <td>unspecified</td>\n",
       "      <td>unspecified</td>\n",
       "    </tr>\n",
       "  </tbody>\n",
       "</table>\n",
       "</div>"
      ],
      "text/plain": [
       "   review_#  brand                                            variety style  \\\n",
       "0      2580      1                          T's Restaurant Tantanmen    Cup   \n",
       "1      2579      2  Noodles Spicy Hot Sesame Spicy Hot Sesame Guan...  Pack   \n",
       "2      2578      3                      Cup Noodles Chicken Vegetable   Cup   \n",
       "3      2577      4                      GGE Ramen Snack Tomato Flavor  Pack   \n",
       "4      2576      5                                    Singapore Curry  Pack   \n",
       "\n",
       "   country  stars top_ten  contain_flavor  is_spicy   meat_types noodle_types  \n",
       "0        1   3.75     NaN               0         0  unspecified  unspecified  \n",
       "1        2   1.00     NaN               0         1  unspecified      noodles  \n",
       "2        3   2.25     NaN               0         0      chicken      noodles  \n",
       "3        2   2.75     NaN               1         0  unspecified        ramen  \n",
       "4        4   3.75     NaN               0         0  unspecified  unspecified  "
      ]
     },
     "execution_count": 19,
     "metadata": {},
     "output_type": "execute_result"
    }
   ],
   "source": [
    "# Create dict of meat_types and noodle_types\n",
    "dict_meat_types = {df['meat_types'].unique()[i]: i+1 for i in range(0,len(df['meat_types'].unique()))}\n",
    "dict_noodle_types =  {df['noodle_types'].unique()[i]: i+1 for i in range(0,len(df['noodle_types'].unique()))}\n",
    "df.head()"
   ]
  },
  {
   "cell_type": "code",
   "execution_count": 20,
   "id": "82ded9cc",
   "metadata": {},
   "outputs": [
    {
     "data": {
      "text/plain": [
       "Index(['review_#', 'brand', 'variety', 'style', 'country', 'stars', 'top_ten',\n",
       "       'contain_flavor', 'is_spicy', 'meat_types', 'noodle_types'],\n",
       "      dtype='object')"
      ]
     },
     "execution_count": 20,
     "metadata": {},
     "output_type": "execute_result"
    }
   ],
   "source": [
    "df.columns"
   ]
  },
  {
   "cell_type": "code",
   "execution_count": 21,
   "id": "7e31ccd7",
   "metadata": {},
   "outputs": [
    {
     "data": {
      "text/html": [
       "<div>\n",
       "<style scoped>\n",
       "    .dataframe tbody tr th:only-of-type {\n",
       "        vertical-align: middle;\n",
       "    }\n",
       "\n",
       "    .dataframe tbody tr th {\n",
       "        vertical-align: top;\n",
       "    }\n",
       "\n",
       "    .dataframe thead th {\n",
       "        text-align: right;\n",
       "    }\n",
       "</style>\n",
       "<table border=\"1\" class=\"dataframe\">\n",
       "  <thead>\n",
       "    <tr style=\"text-align: right;\">\n",
       "      <th></th>\n",
       "      <th>brand</th>\n",
       "      <th>style</th>\n",
       "      <th>country</th>\n",
       "      <th>stars</th>\n",
       "      <th>contain_flavor</th>\n",
       "      <th>is_spicy</th>\n",
       "      <th>meat_types</th>\n",
       "      <th>noodle_types</th>\n",
       "    </tr>\n",
       "  </thead>\n",
       "  <tbody>\n",
       "    <tr>\n",
       "      <th>0</th>\n",
       "      <td>1</td>\n",
       "      <td>Cup</td>\n",
       "      <td>1</td>\n",
       "      <td>3.75</td>\n",
       "      <td>0</td>\n",
       "      <td>0</td>\n",
       "      <td>unspecified</td>\n",
       "      <td>unspecified</td>\n",
       "    </tr>\n",
       "    <tr>\n",
       "      <th>1</th>\n",
       "      <td>2</td>\n",
       "      <td>Pack</td>\n",
       "      <td>2</td>\n",
       "      <td>1.00</td>\n",
       "      <td>0</td>\n",
       "      <td>1</td>\n",
       "      <td>unspecified</td>\n",
       "      <td>noodles</td>\n",
       "    </tr>\n",
       "    <tr>\n",
       "      <th>2</th>\n",
       "      <td>3</td>\n",
       "      <td>Cup</td>\n",
       "      <td>3</td>\n",
       "      <td>2.25</td>\n",
       "      <td>0</td>\n",
       "      <td>0</td>\n",
       "      <td>chicken</td>\n",
       "      <td>noodles</td>\n",
       "    </tr>\n",
       "    <tr>\n",
       "      <th>3</th>\n",
       "      <td>4</td>\n",
       "      <td>Pack</td>\n",
       "      <td>2</td>\n",
       "      <td>2.75</td>\n",
       "      <td>1</td>\n",
       "      <td>0</td>\n",
       "      <td>unspecified</td>\n",
       "      <td>ramen</td>\n",
       "    </tr>\n",
       "    <tr>\n",
       "      <th>4</th>\n",
       "      <td>5</td>\n",
       "      <td>Pack</td>\n",
       "      <td>4</td>\n",
       "      <td>3.75</td>\n",
       "      <td>0</td>\n",
       "      <td>0</td>\n",
       "      <td>unspecified</td>\n",
       "      <td>unspecified</td>\n",
       "    </tr>\n",
       "  </tbody>\n",
       "</table>\n",
       "</div>"
      ],
      "text/plain": [
       "   brand style  country  stars  contain_flavor  is_spicy   meat_types  \\\n",
       "0      1   Cup        1   3.75               0         0  unspecified   \n",
       "1      2  Pack        2   1.00               0         1  unspecified   \n",
       "2      3   Cup        3   2.25               0         0      chicken   \n",
       "3      4  Pack        2   2.75               1         0  unspecified   \n",
       "4      5  Pack        4   3.75               0         0  unspecified   \n",
       "\n",
       "  noodle_types  \n",
       "0  unspecified  \n",
       "1      noodles  \n",
       "2      noodles  \n",
       "3        ramen  \n",
       "4  unspecified  "
      ]
     },
     "execution_count": 21,
     "metadata": {},
     "output_type": "execute_result"
    }
   ],
   "source": [
    "u_df = df[['brand', 'style', 'country', 'stars',\n",
    "       'contain_flavor', 'is_spicy', 'meat_types', 'noodle_types']]\n",
    "u_df.head()"
   ]
  },
  {
   "cell_type": "markdown",
   "id": "f3a61113",
   "metadata": {},
   "source": [
    "# Exploratory Data Analysis\n",
    "In this part we can answer some question above"
   ]
  },
  {
   "cell_type": "markdown",
   "id": "efacf22a",
   "metadata": {},
   "source": [
    "### 1. Exploratory Data by Country"
   ]
  },
  {
   "cell_type": "markdown",
   "id": "694fbf5a",
   "metadata": {},
   "source": [
    "##### Question 1. What country produces the highest amount of ramen products?? "
   ]
  },
  {
   "cell_type": "code",
   "execution_count": 22,
   "id": "6d23ae93",
   "metadata": {},
   "outputs": [
    {
     "data": {
      "text/html": [
       "<div>\n",
       "<style scoped>\n",
       "    .dataframe tbody tr th:only-of-type {\n",
       "        vertical-align: middle;\n",
       "    }\n",
       "\n",
       "    .dataframe tbody tr th {\n",
       "        vertical-align: top;\n",
       "    }\n",
       "\n",
       "    .dataframe thead th {\n",
       "        text-align: right;\n",
       "    }\n",
       "</style>\n",
       "<table border=\"1\" class=\"dataframe\">\n",
       "  <thead>\n",
       "    <tr style=\"text-align: right;\">\n",
       "      <th></th>\n",
       "      <th>review_#</th>\n",
       "      <th>brand</th>\n",
       "      <th>variety</th>\n",
       "      <th>style</th>\n",
       "      <th>stars</th>\n",
       "      <th>top_ten</th>\n",
       "    </tr>\n",
       "    <tr>\n",
       "      <th>country</th>\n",
       "      <th></th>\n",
       "      <th></th>\n",
       "      <th></th>\n",
       "      <th></th>\n",
       "      <th></th>\n",
       "      <th></th>\n",
       "    </tr>\n",
       "  </thead>\n",
       "  <tbody>\n",
       "    <tr>\n",
       "      <th>Japan</th>\n",
       "      <td>352</td>\n",
       "      <td>352</td>\n",
       "      <td>352</td>\n",
       "      <td>352</td>\n",
       "      <td>352</td>\n",
       "      <td>6</td>\n",
       "    </tr>\n",
       "    <tr>\n",
       "      <th>USA</th>\n",
       "      <td>323</td>\n",
       "      <td>323</td>\n",
       "      <td>323</td>\n",
       "      <td>323</td>\n",
       "      <td>323</td>\n",
       "      <td>1</td>\n",
       "    </tr>\n",
       "    <tr>\n",
       "      <th>South Korea</th>\n",
       "      <td>307</td>\n",
       "      <td>307</td>\n",
       "      <td>307</td>\n",
       "      <td>307</td>\n",
       "      <td>307</td>\n",
       "      <td>7</td>\n",
       "    </tr>\n",
       "    <tr>\n",
       "      <th>Taiwan</th>\n",
       "      <td>224</td>\n",
       "      <td>224</td>\n",
       "      <td>224</td>\n",
       "      <td>224</td>\n",
       "      <td>224</td>\n",
       "      <td>2</td>\n",
       "    </tr>\n",
       "    <tr>\n",
       "      <th>Thailand</th>\n",
       "      <td>191</td>\n",
       "      <td>191</td>\n",
       "      <td>191</td>\n",
       "      <td>191</td>\n",
       "      <td>191</td>\n",
       "      <td>3</td>\n",
       "    </tr>\n",
       "  </tbody>\n",
       "</table>\n",
       "</div>"
      ],
      "text/plain": [
       "             review_#  brand  variety  style  stars  top_ten\n",
       "country                                                     \n",
       "Japan             352    352      352    352    352        6\n",
       "USA               323    323      323    323    323        1\n",
       "South Korea       307    307      307    307    307        7\n",
       "Taiwan            224    224      224    224    224        2\n",
       "Thailand          191    191      191    191    191        3"
      ]
     },
     "execution_count": 22,
     "metadata": {},
     "output_type": "execute_result"
    }
   ],
   "source": [
    "count_by_country = raw_df.groupby('country').count().sort_values(by=['variety'],ascending = False) ## Can choose any column without \n",
    "count_by_country.head()"
   ]
  },
  {
   "cell_type": "code",
   "execution_count": 23,
   "id": "4b999182",
   "metadata": {},
   "outputs": [
    {
     "data": {
      "image/png": "[encoded data removed]",
      "text/plain": [
       "<Figure size 936x432 with 1 Axes>"
      ]
     },
     "metadata": {
      "needs_background": "light"
     },
     "output_type": "display_data"
    }
   ],
   "source": [
    "plt.figure(figsize=(13,6))\n",
    "PbC = sns.barplot(count_by_country.index,count_by_country.variety,palette='mako')\n",
    "\n",
    "PbC.set_title('Distribution of the number of prodcuts made by different country',fontsize=18)\n",
    "PbC.set_xticklabels(PbC.get_xticklabels(),rotation=90)\n",
    "PbC.set_ylabel('number of products')\n",
    "\n",
    "None  #don't show the label objects "
   ]
  },
  {
   "cell_type": "markdown",
   "id": "de0c678a",
   "metadata": {},
   "source": [
    "#### Japan is country produces the highest amount of ramen products with total is 352 products "
   ]
  },
  {
   "cell_type": "markdown",
   "id": "ef23c13b",
   "metadata": {},
   "source": [
    "###### Question 2. Whats the country with the highest rating products"
   ]
  },
  {
   "cell_type": "code",
   "execution_count": 24,
   "id": "5a25c151",
   "metadata": {
    "scrolled": true
   },
   "outputs": [
    {
     "data": {
      "text/html": [
       "<div>\n",
       "<style scoped>\n",
       "    .dataframe tbody tr th:only-of-type {\n",
       "        vertical-align: middle;\n",
       "    }\n",
       "\n",
       "    .dataframe tbody tr th {\n",
       "        vertical-align: top;\n",
       "    }\n",
       "\n",
       "    .dataframe thead th {\n",
       "        text-align: right;\n",
       "    }\n",
       "</style>\n",
       "<table border=\"1\" class=\"dataframe\">\n",
       "  <thead>\n",
       "    <tr style=\"text-align: right;\">\n",
       "      <th></th>\n",
       "      <th>review_#</th>\n",
       "      <th>stars</th>\n",
       "    </tr>\n",
       "    <tr>\n",
       "      <th>country</th>\n",
       "      <th></th>\n",
       "      <th></th>\n",
       "    </tr>\n",
       "  </thead>\n",
       "  <tbody>\n",
       "    <tr>\n",
       "      <th>Japan</th>\n",
       "      <td>484327</td>\n",
       "      <td>1401.525</td>\n",
       "    </tr>\n",
       "    <tr>\n",
       "      <th>South Korea</th>\n",
       "      <td>308186</td>\n",
       "      <td>1163.700</td>\n",
       "    </tr>\n",
       "    <tr>\n",
       "      <th>USA</th>\n",
       "      <td>351014</td>\n",
       "      <td>1116.625</td>\n",
       "    </tr>\n",
       "    <tr>\n",
       "      <th>Taiwan</th>\n",
       "      <td>290380</td>\n",
       "      <td>821.050</td>\n",
       "    </tr>\n",
       "    <tr>\n",
       "      <th>Thailand</th>\n",
       "      <td>217954</td>\n",
       "      <td>646.500</td>\n",
       "    </tr>\n",
       "  </tbody>\n",
       "</table>\n",
       "</div>"
      ],
      "text/plain": [
       "             review_#     stars\n",
       "country                        \n",
       "Japan          484327  1401.525\n",
       "South Korea    308186  1163.700\n",
       "USA            351014  1116.625\n",
       "Taiwan         290380   821.050\n",
       "Thailand       217954   646.500"
      ]
     },
     "execution_count": 24,
     "metadata": {},
     "output_type": "execute_result"
    }
   ],
   "source": [
    "stars_by_country = raw_df.groupby('country').sum().sort_values(by=['stars'],ascending = False)\n",
    "stars_by_country.head()"
   ]
  },
  {
   "cell_type": "code",
   "execution_count": 25,
   "id": "a21475f0",
   "metadata": {},
   "outputs": [
    {
     "data": {
      "image/png": "[encoded data removed]",
      "text/plain": [
       "<Figure size 936x432 with 1 Axes>"
      ]
     },
     "metadata": {
      "needs_background": "light"
     },
     "output_type": "display_data"
    }
   ],
   "source": [
    "plt.figure(figsize=(13,6))\n",
    "SbC = sns.barplot(stars_by_country.index,stars_by_country.stars,palette='mako')\n",
    "PbC.set_title(\"Distribution of prodcuts'rating  made by different country\",fontsize=18)\n",
    "SbC.set_xticklabels(SbC.get_xticklabels(),rotation=90)\n",
    "\n",
    "None  #don't show the label objects"
   ]
  },
  {
   "cell_type": "markdown",
   "id": "e0767ce5",
   "metadata": {},
   "source": [
    "#### Japan is the country with the highest rating products. Total rating for Japan'Ramen reach to 1401.525 point . "
   ]
  },
  {
   "cell_type": "markdown",
   "id": "e5cba86d",
   "metadata": {},
   "source": [
    "### 2. Exploratory Data by Brand"
   ]
  },
  {
   "cell_type": "markdown",
   "id": "ab29e8cf",
   "metadata": {},
   "source": [
    "###### Group Brand by products\n",
    "\n",
    "Looking at the data of products distributed with Brand, we see that 'Nissin' is the brand that almost dominates the market with 381 products (4 times more than the 2nd brand right after that). So it is easy to see that this is a prominent brand we can focus on 'Nissin' in the analysis process."
   ]
  },
  {
   "cell_type": "markdown",
   "id": "f3dc6039",
   "metadata": {},
   "source": [
    "###### Question 3 Is there a significant difference between brand average scores?"
   ]
  },
  {
   "cell_type": "code",
   "execution_count": 26,
   "id": "ed387439",
   "metadata": {
    "scrolled": true
   },
   "outputs": [],
   "source": [
    "group_by_brand = raw_df.groupby('brand').count()\n",
    "stars_by_brand = raw_df.groupby('brand').sum()\n",
    "combine_by_brand = pd.concat([group_by_brand.variety,stars_by_brand], axis = 1)\n",
    "combine_by_brand['average_rating'] = combine_by_brand['stars']/ combine_by_brand['variety']\n",
    "DF =  combine_by_brand.reset_index().sort_values(by=['average_rating'],ascending = False).head(30)"
   ]
  },
  {
   "cell_type": "code",
   "execution_count": 27,
   "id": "51d29e22",
   "metadata": {
    "scrolled": true
   },
   "outputs": [
    {
     "data": {
      "text/plain": [
       "<Figure size 1440x720 with 0 Axes>"
      ]
     },
     "metadata": {},
     "output_type": "display_data"
    },
    {
     "data": {
      "image/png": "[encoded data removed]",
      "text/plain": [
       "<Figure size 432x288 with 2 Axes>"
      ]
     },
     "metadata": {
      "needs_background": "light"
     },
     "output_type": "display_data"
    }
   ],
   "source": [
    "plt.figure(figsize=(20,10))\n",
    "ax  = DF.plot(x=\"brand\",y=\"average_rating\",color=\"b\",kind=\"bar\")\n",
    "ax2 = DF.plot(x=\"brand\",y=\"variety\", color=\"r\", ax=ax, secondary_y=True)\n",
    "ax.set_ylabel(\"average_rating\", color=\"b\")\n",
    "ax2.set_ylabel(\"number of product\", color=\"r\")\n",
    "ax.set_title(\"Distribution of prodcuts rating and total products top 30 Brands\",fontsize=15)\n",
    "ax.set_xticklabels(ax.get_xticklabels(),rotation=90)\n",
    "ax.legend(bbox_to_anchor=(1.05, 1.0), loc='upper left')\n",
    "ax2.legend(bbox_to_anchor=(1.05, 0.9), loc='upper left')\n",
    "None"
   ]
  },
  {
   "cell_type": "markdown",
   "id": "270f4a05",
   "metadata": {},
   "source": [
    "####  There are many Brands with an average rating of up to 5 stars, but most of them have less than 5 products (around 1> 2 products) . So the average rating by brand can't tell us which brand is the best."
   ]
  },
  {
   "cell_type": "markdown",
   "id": "d9325a61",
   "metadata": {},
   "source": [
    "### 3. Exploratory Data by style"
   ]
  },
  {
   "cell_type": "markdown",
   "id": "a7fb359f",
   "metadata": {},
   "source": [
    "###### Question 4 Does the product style affect the score directly? Does a certain kind of product style mean a lower score?"
   ]
  },
  {
   "cell_type": "code",
   "execution_count": 28,
   "id": "d0d2d680",
   "metadata": {},
   "outputs": [
    {
     "data": {
      "image/png": "[encoded data removed]",
      "text/plain": [
       "<Figure size 936x432 with 1 Axes>"
      ]
     },
     "metadata": {
      "needs_background": "light"
     },
     "output_type": "display_data"
    }
   ],
   "source": [
    "plt.figure(figsize=(13,6))\n",
    "for i in dict_style.keys():\n",
    "    RbS = sns.distplot(raw_df[raw_df['style']==i]['stars'],hist=False,label = i,kde_kws={'lw':2})\n",
    "plt.legend(prop={'size':15})\n",
    "RbS.set_title('Distributions of different ramen style rankings ',fontsize=15)\n",
    "\n",
    "plt.show()"
   ]
  },
  {
   "cell_type": "code",
   "execution_count": 29,
   "id": "04a79eed",
   "metadata": {
    "scrolled": false
   },
   "outputs": [
    {
     "data": {
      "image/png": "[encoded data removed]",
      "text/plain": [
       "<Figure size 936x432 with 1 Axes>"
      ]
     },
     "metadata": {
      "needs_background": "light"
     },
     "output_type": "display_data"
    }
   ],
   "source": [
    "plt.figure(figsize=(13,6))\n",
    "count_by_style = raw_df.groupby('style').count().sort_values(by=['variety'],ascending = False)\n",
    "stars_by_style = raw_df.groupby('style').sum().sort_values(by=['stars'],ascending = False)\n",
    "average_stars_by_style = (stars_by_style.stars/count_by_style.variety).sort_values(ascending = False)\n",
    "\n",
    "SbS = sns.barplot(average_stars_by_style.index,average_stars_by_style,palette='mako')\n",
    "SbS.set_title(\"Distribution of prodcuts'rating by style\",fontsize=18)\n",
    "SbS.set_xticklabels(SbS.get_xticklabels(),rotation=90)\n",
    "None "
   ]
  },
  {
   "cell_type": "markdown",
   "id": "4aab767c",
   "metadata": {},
   "source": [
    "### 4. Stars by meats "
   ]
  },
  {
   "cell_type": "code",
   "execution_count": 30,
   "id": "4ab643b4",
   "metadata": {},
   "outputs": [
    {
     "data": {
      "image/png": "[encoded data removed]",
      "text/plain": [
       "<Figure size 1080x432 with 2 Axes>"
      ]
     },
     "metadata": {
      "needs_background": "light"
     },
     "output_type": "display_data"
    }
   ],
   "source": [
    "plt.figure(figsize=(15,6))\n",
    "\n",
    "plt.subplot(1,2,1)\n",
    "plt.title('Amount Products by Meats')\n",
    "sns.countplot(df.meat_types, palette=(\"cubehelix\"))\n",
    "\n",
    "plt.subplot(1,2,2)\n",
    "plt.title('Type of meats and Stars')\n",
    "sns.boxplot(x=df.meat_types, y=df.stars, palette=(\"cubehelix\"))\n",
    "\n",
    "plt.show()\n",
    "\n"
   ]
  },
  {
   "cell_type": "markdown",
   "id": "79e6972a",
   "metadata": {},
   "source": [
    "### 5. Stars by spicy"
   ]
  },
  {
   "cell_type": "code",
   "execution_count": 31,
   "id": "3b0dbcc6",
   "metadata": {},
   "outputs": [
    {
     "data": {
      "text/html": [
       "<div>\n",
       "<style scoped>\n",
       "    .dataframe tbody tr th:only-of-type {\n",
       "        vertical-align: middle;\n",
       "    }\n",
       "\n",
       "    .dataframe tbody tr th {\n",
       "        vertical-align: top;\n",
       "    }\n",
       "\n",
       "    .dataframe thead th {\n",
       "        text-align: right;\n",
       "    }\n",
       "</style>\n",
       "<table border=\"1\" class=\"dataframe\">\n",
       "  <thead>\n",
       "    <tr style=\"text-align: right;\">\n",
       "      <th></th>\n",
       "      <th>review_#</th>\n",
       "      <th>brand</th>\n",
       "      <th>variety</th>\n",
       "      <th>style</th>\n",
       "      <th>country</th>\n",
       "      <th>stars</th>\n",
       "      <th>top_ten</th>\n",
       "      <th>contain_flavor</th>\n",
       "      <th>is_spicy</th>\n",
       "      <th>meat_types</th>\n",
       "      <th>noodle_types</th>\n",
       "    </tr>\n",
       "  </thead>\n",
       "  <tbody>\n",
       "    <tr>\n",
       "      <th>0</th>\n",
       "      <td>2580</td>\n",
       "      <td>1</td>\n",
       "      <td>T's Restaurant Tantanmen</td>\n",
       "      <td>Cup</td>\n",
       "      <td>1</td>\n",
       "      <td>3.75</td>\n",
       "      <td>NaN</td>\n",
       "      <td>0</td>\n",
       "      <td>0</td>\n",
       "      <td>unspecified</td>\n",
       "      <td>unspecified</td>\n",
       "    </tr>\n",
       "    <tr>\n",
       "      <th>1</th>\n",
       "      <td>2579</td>\n",
       "      <td>2</td>\n",
       "      <td>Noodles Spicy Hot Sesame Spicy Hot Sesame Guan...</td>\n",
       "      <td>Pack</td>\n",
       "      <td>2</td>\n",
       "      <td>1.00</td>\n",
       "      <td>NaN</td>\n",
       "      <td>0</td>\n",
       "      <td>1</td>\n",
       "      <td>unspecified</td>\n",
       "      <td>noodles</td>\n",
       "    </tr>\n",
       "    <tr>\n",
       "      <th>2</th>\n",
       "      <td>2578</td>\n",
       "      <td>3</td>\n",
       "      <td>Cup Noodles Chicken Vegetable</td>\n",
       "      <td>Cup</td>\n",
       "      <td>3</td>\n",
       "      <td>2.25</td>\n",
       "      <td>NaN</td>\n",
       "      <td>0</td>\n",
       "      <td>0</td>\n",
       "      <td>chicken</td>\n",
       "      <td>noodles</td>\n",
       "    </tr>\n",
       "    <tr>\n",
       "      <th>3</th>\n",
       "      <td>2577</td>\n",
       "      <td>4</td>\n",
       "      <td>GGE Ramen Snack Tomato Flavor</td>\n",
       "      <td>Pack</td>\n",
       "      <td>2</td>\n",
       "      <td>2.75</td>\n",
       "      <td>NaN</td>\n",
       "      <td>1</td>\n",
       "      <td>0</td>\n",
       "      <td>unspecified</td>\n",
       "      <td>ramen</td>\n",
       "    </tr>\n",
       "    <tr>\n",
       "      <th>4</th>\n",
       "      <td>2576</td>\n",
       "      <td>5</td>\n",
       "      <td>Singapore Curry</td>\n",
       "      <td>Pack</td>\n",
       "      <td>4</td>\n",
       "      <td>3.75</td>\n",
       "      <td>NaN</td>\n",
       "      <td>0</td>\n",
       "      <td>0</td>\n",
       "      <td>unspecified</td>\n",
       "      <td>unspecified</td>\n",
       "    </tr>\n",
       "  </tbody>\n",
       "</table>\n",
       "</div>"
      ],
      "text/plain": [
       "   review_#  brand                                            variety style  \\\n",
       "0      2580      1                          T's Restaurant Tantanmen    Cup   \n",
       "1      2579      2  Noodles Spicy Hot Sesame Spicy Hot Sesame Guan...  Pack   \n",
       "2      2578      3                      Cup Noodles Chicken Vegetable   Cup   \n",
       "3      2577      4                      GGE Ramen Snack Tomato Flavor  Pack   \n",
       "4      2576      5                                    Singapore Curry  Pack   \n",
       "\n",
       "   country  stars top_ten  contain_flavor  is_spicy   meat_types noodle_types  \n",
       "0        1   3.75     NaN               0         0  unspecified  unspecified  \n",
       "1        2   1.00     NaN               0         1  unspecified      noodles  \n",
       "2        3   2.25     NaN               0         0      chicken      noodles  \n",
       "3        2   2.75     NaN               1         0  unspecified        ramen  \n",
       "4        4   3.75     NaN               0         0  unspecified  unspecified  "
      ]
     },
     "execution_count": 31,
     "metadata": {},
     "output_type": "execute_result"
    }
   ],
   "source": [
    "df.head()"
   ]
  },
  {
   "cell_type": "code",
   "execution_count": 32,
   "id": "454a16ae",
   "metadata": {},
   "outputs": [
    {
     "data": {
      "image/png": "[encoded data removed]",
      "text/plain": [
       "<Figure size 936x432 with 1 Axes>"
      ]
     },
     "metadata": {
      "needs_background": "light"
     },
     "output_type": "display_data"
    }
   ],
   "source": [
    "plt.figure(figsize=(13,6))\n",
    "SbS = sns.distplot(df[df['is_spicy']==0]['stars'],hist=False,label = \"Not_spicy\",kde_kws={'lw':2})\n",
    "SbS = sns.distplot(df[df['is_spicy']==1]['stars'],hist=False,label = \"Is_spicy\",kde_kws={'lw':2})\n",
    "plt.legend(prop={'size':15})\n",
    "SbS.set_title('Distributions of stars by spicy ',fontsize=15)\n",
    "\n",
    "plt.show()"
   ]
  },
  {
   "cell_type": "markdown",
   "id": "50b5c208",
   "metadata": {},
   "source": [
    "### 6. Stars by flavour "
   ]
  },
  {
   "cell_type": "code",
   "execution_count": 33,
   "id": "bc0572a0",
   "metadata": {},
   "outputs": [
    {
     "data": {
      "image/png": "[encoded data removed]",
      "text/plain": [
       "<Figure size 936x432 with 1 Axes>"
      ]
     },
     "metadata": {
      "needs_background": "light"
     },
     "output_type": "display_data"
    }
   ],
   "source": [
    "plt.figure(figsize=(13,6))\n",
    "SbF = sns.distplot(df[df['contain_flavor']==0]['stars'],hist=False,label = \"Not_contain_flavor\",kde_kws={'lw':2})\n",
    "SbF = sns.distplot(df[df['contain_flavor']==1]['stars'],hist=False,label = \"Contain_flavor\",kde_kws={'lw':2})\n",
    "plt.legend(prop={'size':15})\n",
    "SbF.set_title('Distributions of stars by flavor ',fontsize=15)\n",
    "\n",
    "plt.show()"
   ]
  },
  {
   "cell_type": "markdown",
   "id": "1b16646b",
   "metadata": {},
   "source": [
    "# Model \n"
   ]
  },
  {
   "cell_type": "markdown",
   "id": "2a8a73f6",
   "metadata": {},
   "source": [
    "###  1. Prepare data for predict "
   ]
  },
  {
   "cell_type": "code",
   "execution_count": 34,
   "id": "beb44581",
   "metadata": {},
   "outputs": [
    {
     "data": {
      "text/html": [
       "<div>\n",
       "<style scoped>\n",
       "    .dataframe tbody tr th:only-of-type {\n",
       "        vertical-align: middle;\n",
       "    }\n",
       "\n",
       "    .dataframe tbody tr th {\n",
       "        vertical-align: top;\n",
       "    }\n",
       "\n",
       "    .dataframe thead th {\n",
       "        text-align: right;\n",
       "    }\n",
       "</style>\n",
       "<table border=\"1\" class=\"dataframe\">\n",
       "  <thead>\n",
       "    <tr style=\"text-align: right;\">\n",
       "      <th></th>\n",
       "      <th>brand</th>\n",
       "      <th>style</th>\n",
       "      <th>country</th>\n",
       "      <th>stars</th>\n",
       "      <th>contain_flavor</th>\n",
       "      <th>is_spicy</th>\n",
       "      <th>meat_types</th>\n",
       "      <th>noodle_types</th>\n",
       "    </tr>\n",
       "  </thead>\n",
       "  <tbody>\n",
       "    <tr>\n",
       "      <th>0</th>\n",
       "      <td>1</td>\n",
       "      <td>Cup</td>\n",
       "      <td>1</td>\n",
       "      <td>3.75</td>\n",
       "      <td>0</td>\n",
       "      <td>0</td>\n",
       "      <td>unspecified</td>\n",
       "      <td>unspecified</td>\n",
       "    </tr>\n",
       "    <tr>\n",
       "      <th>1</th>\n",
       "      <td>2</td>\n",
       "      <td>Pack</td>\n",
       "      <td>2</td>\n",
       "      <td>1.00</td>\n",
       "      <td>0</td>\n",
       "      <td>1</td>\n",
       "      <td>unspecified</td>\n",
       "      <td>noodles</td>\n",
       "    </tr>\n",
       "    <tr>\n",
       "      <th>2</th>\n",
       "      <td>3</td>\n",
       "      <td>Cup</td>\n",
       "      <td>3</td>\n",
       "      <td>2.25</td>\n",
       "      <td>0</td>\n",
       "      <td>0</td>\n",
       "      <td>chicken</td>\n",
       "      <td>noodles</td>\n",
       "    </tr>\n",
       "    <tr>\n",
       "      <th>3</th>\n",
       "      <td>4</td>\n",
       "      <td>Pack</td>\n",
       "      <td>2</td>\n",
       "      <td>2.75</td>\n",
       "      <td>1</td>\n",
       "      <td>0</td>\n",
       "      <td>unspecified</td>\n",
       "      <td>ramen</td>\n",
       "    </tr>\n",
       "    <tr>\n",
       "      <th>4</th>\n",
       "      <td>5</td>\n",
       "      <td>Pack</td>\n",
       "      <td>4</td>\n",
       "      <td>3.75</td>\n",
       "      <td>0</td>\n",
       "      <td>0</td>\n",
       "      <td>unspecified</td>\n",
       "      <td>unspecified</td>\n",
       "    </tr>\n",
       "  </tbody>\n",
       "</table>\n",
       "</div>"
      ],
      "text/plain": [
       "   brand style  country  stars  contain_flavor  is_spicy   meat_types  \\\n",
       "0      1   Cup        1   3.75               0         0  unspecified   \n",
       "1      2  Pack        2   1.00               0         1  unspecified   \n",
       "2      3   Cup        3   2.25               0         0      chicken   \n",
       "3      4  Pack        2   2.75               1         0  unspecified   \n",
       "4      5  Pack        4   3.75               0         0  unspecified   \n",
       "\n",
       "  noodle_types  \n",
       "0  unspecified  \n",
       "1      noodles  \n",
       "2      noodles  \n",
       "3        ramen  \n",
       "4  unspecified  "
      ]
     },
     "execution_count": 34,
     "metadata": {},
     "output_type": "execute_result"
    }
   ],
   "source": [
    "u_df.head()"
   ]
  },
  {
   "cell_type": "code",
   "execution_count": 35,
   "id": "c259c228",
   "metadata": {
    "scrolled": true
   },
   "outputs": [],
   "source": [
    "meats = pd.get_dummies(u_df['meat_types'])\n",
    "styles = pd.get_dummies(u_df['style'])\n",
    "DP = pd.concat([u_df,meats,styles],axis= 1)\n",
    "DP.drop(['meat_types','style'],axis=1,inplace=True)\n",
    "DP.rename(columns = {\"unspecified\":\"other_meat\"},inplace = True)\n",
    "# noodle_types = pd.get_dummies(u_df['noodle_types'])\n",
    "# DP = pd.concat([DP,noodle_types],axis= 1)\n",
    "# DP.rename(columns = {\"unspecified\":\"other_noodle_styles\"},inplace = True)"
   ]
  },
  {
   "cell_type": "code",
   "execution_count": 36,
   "id": "df09d82d",
   "metadata": {
    "scrolled": true
   },
   "outputs": [
    {
     "data": {
      "text/html": [
       "<div>\n",
       "<style scoped>\n",
       "    .dataframe tbody tr th:only-of-type {\n",
       "        vertical-align: middle;\n",
       "    }\n",
       "\n",
       "    .dataframe tbody tr th {\n",
       "        vertical-align: top;\n",
       "    }\n",
       "\n",
       "    .dataframe thead th {\n",
       "        text-align: right;\n",
       "    }\n",
       "</style>\n",
       "<table border=\"1\" class=\"dataframe\">\n",
       "  <thead>\n",
       "    <tr style=\"text-align: right;\">\n",
       "      <th></th>\n",
       "      <th>brand</th>\n",
       "      <th>country</th>\n",
       "      <th>stars</th>\n",
       "      <th>contain_flavor</th>\n",
       "      <th>is_spicy</th>\n",
       "      <th>noodle_types</th>\n",
       "      <th>beef</th>\n",
       "      <th>chicken</th>\n",
       "      <th>duck</th>\n",
       "      <th>pork</th>\n",
       "      <th>shrimp</th>\n",
       "      <th>other_meat</th>\n",
       "      <th>Bar</th>\n",
       "      <th>Bowl</th>\n",
       "      <th>Box</th>\n",
       "      <th>Can</th>\n",
       "      <th>Cup</th>\n",
       "      <th>Pack</th>\n",
       "      <th>Tray</th>\n",
       "    </tr>\n",
       "  </thead>\n",
       "  <tbody>\n",
       "    <tr>\n",
       "      <th>0</th>\n",
       "      <td>1</td>\n",
       "      <td>1</td>\n",
       "      <td>3.75</td>\n",
       "      <td>0</td>\n",
       "      <td>0</td>\n",
       "      <td>unspecified</td>\n",
       "      <td>0</td>\n",
       "      <td>0</td>\n",
       "      <td>0</td>\n",
       "      <td>0</td>\n",
       "      <td>0</td>\n",
       "      <td>1</td>\n",
       "      <td>0</td>\n",
       "      <td>0</td>\n",
       "      <td>0</td>\n",
       "      <td>0</td>\n",
       "      <td>1</td>\n",
       "      <td>0</td>\n",
       "      <td>0</td>\n",
       "    </tr>\n",
       "    <tr>\n",
       "      <th>1</th>\n",
       "      <td>2</td>\n",
       "      <td>2</td>\n",
       "      <td>1.00</td>\n",
       "      <td>0</td>\n",
       "      <td>1</td>\n",
       "      <td>noodles</td>\n",
       "      <td>0</td>\n",
       "      <td>0</td>\n",
       "      <td>0</td>\n",
       "      <td>0</td>\n",
       "      <td>0</td>\n",
       "      <td>1</td>\n",
       "      <td>0</td>\n",
       "      <td>0</td>\n",
       "      <td>0</td>\n",
       "      <td>0</td>\n",
       "      <td>0</td>\n",
       "      <td>1</td>\n",
       "      <td>0</td>\n",
       "    </tr>\n",
       "    <tr>\n",
       "      <th>2</th>\n",
       "      <td>3</td>\n",
       "      <td>3</td>\n",
       "      <td>2.25</td>\n",
       "      <td>0</td>\n",
       "      <td>0</td>\n",
       "      <td>noodles</td>\n",
       "      <td>0</td>\n",
       "      <td>1</td>\n",
       "      <td>0</td>\n",
       "      <td>0</td>\n",
       "      <td>0</td>\n",
       "      <td>0</td>\n",
       "      <td>0</td>\n",
       "      <td>0</td>\n",
       "      <td>0</td>\n",
       "      <td>0</td>\n",
       "      <td>1</td>\n",
       "      <td>0</td>\n",
       "      <td>0</td>\n",
       "    </tr>\n",
       "    <tr>\n",
       "      <th>3</th>\n",
       "      <td>4</td>\n",
       "      <td>2</td>\n",
       "      <td>2.75</td>\n",
       "      <td>1</td>\n",
       "      <td>0</td>\n",
       "      <td>ramen</td>\n",
       "      <td>0</td>\n",
       "      <td>0</td>\n",
       "      <td>0</td>\n",
       "      <td>0</td>\n",
       "      <td>0</td>\n",
       "      <td>1</td>\n",
       "      <td>0</td>\n",
       "      <td>0</td>\n",
       "      <td>0</td>\n",
       "      <td>0</td>\n",
       "      <td>0</td>\n",
       "      <td>1</td>\n",
       "      <td>0</td>\n",
       "    </tr>\n",
       "    <tr>\n",
       "      <th>4</th>\n",
       "      <td>5</td>\n",
       "      <td>4</td>\n",
       "      <td>3.75</td>\n",
       "      <td>0</td>\n",
       "      <td>0</td>\n",
       "      <td>unspecified</td>\n",
       "      <td>0</td>\n",
       "      <td>0</td>\n",
       "      <td>0</td>\n",
       "      <td>0</td>\n",
       "      <td>0</td>\n",
       "      <td>1</td>\n",
       "      <td>0</td>\n",
       "      <td>0</td>\n",
       "      <td>0</td>\n",
       "      <td>0</td>\n",
       "      <td>0</td>\n",
       "      <td>1</td>\n",
       "      <td>0</td>\n",
       "    </tr>\n",
       "  </tbody>\n",
       "</table>\n",
       "</div>"
      ],
      "text/plain": [
       "   brand  country  stars  contain_flavor  is_spicy noodle_types  beef  \\\n",
       "0      1        1   3.75               0         0  unspecified     0   \n",
       "1      2        2   1.00               0         1      noodles     0   \n",
       "2      3        3   2.25               0         0      noodles     0   \n",
       "3      4        2   2.75               1         0        ramen     0   \n",
       "4      5        4   3.75               0         0  unspecified     0   \n",
       "\n",
       "   chicken  duck  pork  shrimp  other_meat  Bar  Bowl  Box  Can  Cup  Pack  \\\n",
       "0        0     0     0       0           1    0     0    0    0    1     0   \n",
       "1        0     0     0       0           1    0     0    0    0    0     1   \n",
       "2        1     0     0       0           0    0     0    0    0    1     0   \n",
       "3        0     0     0       0           1    0     0    0    0    0     1   \n",
       "4        0     0     0       0           1    0     0    0    0    0     1   \n",
       "\n",
       "   Tray  \n",
       "0     0  \n",
       "1     0  \n",
       "2     0  \n",
       "3     0  \n",
       "4     0  "
      ]
     },
     "execution_count": 36,
     "metadata": {},
     "output_type": "execute_result"
    }
   ],
   "source": [
    "DP.head()"
   ]
  },
  {
   "cell_type": "code",
   "execution_count": 37,
   "id": "2ab70561",
   "metadata": {
    "scrolled": true
   },
   "outputs": [
    {
     "data": {
      "text/html": [
       "<div>\n",
       "<style scoped>\n",
       "    .dataframe tbody tr th:only-of-type {\n",
       "        vertical-align: middle;\n",
       "    }\n",
       "\n",
       "    .dataframe tbody tr th {\n",
       "        vertical-align: top;\n",
       "    }\n",
       "\n",
       "    .dataframe thead th {\n",
       "        text-align: right;\n",
       "    }\n",
       "</style>\n",
       "<table border=\"1\" class=\"dataframe\">\n",
       "  <thead>\n",
       "    <tr style=\"text-align: right;\">\n",
       "      <th></th>\n",
       "      <th>brand</th>\n",
       "      <th>country</th>\n",
       "      <th>stars</th>\n",
       "      <th>contain_flavor</th>\n",
       "      <th>is_spicy</th>\n",
       "      <th>noodle_types</th>\n",
       "      <th>beef</th>\n",
       "      <th>chicken</th>\n",
       "      <th>duck</th>\n",
       "      <th>pork</th>\n",
       "      <th>shrimp</th>\n",
       "      <th>other_meat</th>\n",
       "      <th>Bar</th>\n",
       "      <th>Bowl</th>\n",
       "      <th>Box</th>\n",
       "      <th>Can</th>\n",
       "      <th>Cup</th>\n",
       "      <th>Pack</th>\n",
       "      <th>Tray</th>\n",
       "    </tr>\n",
       "  </thead>\n",
       "  <tbody>\n",
       "    <tr>\n",
       "      <th>0</th>\n",
       "      <td>1</td>\n",
       "      <td>1</td>\n",
       "      <td>3.75</td>\n",
       "      <td>0</td>\n",
       "      <td>0</td>\n",
       "      <td>1</td>\n",
       "      <td>0</td>\n",
       "      <td>0</td>\n",
       "      <td>0</td>\n",
       "      <td>0</td>\n",
       "      <td>0</td>\n",
       "      <td>1</td>\n",
       "      <td>0</td>\n",
       "      <td>0</td>\n",
       "      <td>0</td>\n",
       "      <td>0</td>\n",
       "      <td>1</td>\n",
       "      <td>0</td>\n",
       "      <td>0</td>\n",
       "    </tr>\n",
       "    <tr>\n",
       "      <th>1</th>\n",
       "      <td>2</td>\n",
       "      <td>2</td>\n",
       "      <td>1.00</td>\n",
       "      <td>0</td>\n",
       "      <td>1</td>\n",
       "      <td>2</td>\n",
       "      <td>0</td>\n",
       "      <td>0</td>\n",
       "      <td>0</td>\n",
       "      <td>0</td>\n",
       "      <td>0</td>\n",
       "      <td>1</td>\n",
       "      <td>0</td>\n",
       "      <td>0</td>\n",
       "      <td>0</td>\n",
       "      <td>0</td>\n",
       "      <td>0</td>\n",
       "      <td>1</td>\n",
       "      <td>0</td>\n",
       "    </tr>\n",
       "    <tr>\n",
       "      <th>2</th>\n",
       "      <td>3</td>\n",
       "      <td>3</td>\n",
       "      <td>2.25</td>\n",
       "      <td>0</td>\n",
       "      <td>0</td>\n",
       "      <td>2</td>\n",
       "      <td>0</td>\n",
       "      <td>1</td>\n",
       "      <td>0</td>\n",
       "      <td>0</td>\n",
       "      <td>0</td>\n",
       "      <td>0</td>\n",
       "      <td>0</td>\n",
       "      <td>0</td>\n",
       "      <td>0</td>\n",
       "      <td>0</td>\n",
       "      <td>1</td>\n",
       "      <td>0</td>\n",
       "      <td>0</td>\n",
       "    </tr>\n",
       "    <tr>\n",
       "      <th>3</th>\n",
       "      <td>4</td>\n",
       "      <td>2</td>\n",
       "      <td>2.75</td>\n",
       "      <td>1</td>\n",
       "      <td>0</td>\n",
       "      <td>3</td>\n",
       "      <td>0</td>\n",
       "      <td>0</td>\n",
       "      <td>0</td>\n",
       "      <td>0</td>\n",
       "      <td>0</td>\n",
       "      <td>1</td>\n",
       "      <td>0</td>\n",
       "      <td>0</td>\n",
       "      <td>0</td>\n",
       "      <td>0</td>\n",
       "      <td>0</td>\n",
       "      <td>1</td>\n",
       "      <td>0</td>\n",
       "    </tr>\n",
       "    <tr>\n",
       "      <th>4</th>\n",
       "      <td>5</td>\n",
       "      <td>4</td>\n",
       "      <td>3.75</td>\n",
       "      <td>0</td>\n",
       "      <td>0</td>\n",
       "      <td>1</td>\n",
       "      <td>0</td>\n",
       "      <td>0</td>\n",
       "      <td>0</td>\n",
       "      <td>0</td>\n",
       "      <td>0</td>\n",
       "      <td>1</td>\n",
       "      <td>0</td>\n",
       "      <td>0</td>\n",
       "      <td>0</td>\n",
       "      <td>0</td>\n",
       "      <td>0</td>\n",
       "      <td>1</td>\n",
       "      <td>0</td>\n",
       "    </tr>\n",
       "  </tbody>\n",
       "</table>\n",
       "</div>"
      ],
      "text/plain": [
       "   brand  country  stars  contain_flavor  is_spicy  noodle_types  beef  \\\n",
       "0      1        1   3.75               0         0             1     0   \n",
       "1      2        2   1.00               0         1             2     0   \n",
       "2      3        3   2.25               0         0             2     0   \n",
       "3      4        2   2.75               1         0             3     0   \n",
       "4      5        4   3.75               0         0             1     0   \n",
       "\n",
       "   chicken  duck  pork  shrimp  other_meat  Bar  Bowl  Box  Can  Cup  Pack  \\\n",
       "0        0     0     0       0           1    0     0    0    0    1     0   \n",
       "1        0     0     0       0           1    0     0    0    0    0     1   \n",
       "2        1     0     0       0           0    0     0    0    0    1     0   \n",
       "3        0     0     0       0           1    0     0    0    0    0     1   \n",
       "4        0     0     0       0           1    0     0    0    0    0     1   \n",
       "\n",
       "   Tray  \n",
       "0     0  \n",
       "1     0  \n",
       "2     0  \n",
       "3     0  \n",
       "4     0  "
      ]
     },
     "execution_count": 37,
     "metadata": {},
     "output_type": "execute_result"
    }
   ],
   "source": [
    "# Replace numberic in 'style', 'meat_types' and'noodle_types' columns\n",
    "DP.noodle_types.replace(dict_noodle_types,inplace = True)\n",
    "DP.head()"
   ]
  },
  {
   "cell_type": "code",
   "execution_count": 38,
   "id": "275d0175",
   "metadata": {},
   "outputs": [],
   "source": [
    "X= DP.drop('stars',axis=1)\n",
    "y= DP['stars']\n",
    "#train-test split\n",
    "from sklearn.model_selection import train_test_split\n",
    "x_train, x_test, y_train, y_test = train_test_split(X, y, test_size = 0.2, random_state = 42)"
   ]
  },
  {
   "cell_type": "markdown",
   "id": "983d30c3",
   "metadata": {},
   "source": [
    "### 2. Training & Testing of Model"
   ]
  },
  {
   "cell_type": "markdown",
   "id": "221cc670",
   "metadata": {},
   "source": [
    "#### I don't going deep into the model part. Just simply do a quick check to get the results of the regression models by LazyPredict and choose the one with the best results for testing."
   ]
  },
  {
   "cell_type": "code",
   "execution_count": 39,
   "id": "3aa5e41b",
   "metadata": {},
   "outputs": [
    {
     "name": "stderr",
     "output_type": "stream",
     "text": [
      " 24%|███████████████████▌                                                              | 10/42 [00:01<00:04,  6.58it/s]"
     ]
    },
    {
     "name": "stdout",
     "output_type": "stream",
     "text": [
      "GammaRegressor model failed to execute\n",
      "Some value(s) of y are out of the valid range for family GammaDistribution\n"
     ]
    },
    {
     "name": "stderr",
     "output_type": "stream",
     "text": [
      "100%|██████████████████████████████████████████████████████████████████████████████████| 42/42 [00:11<00:00,  3.79it/s]\n"
     ]
    },
    {
     "data": {
      "text/html": [
       "<div>\n",
       "<style scoped>\n",
       "    .dataframe tbody tr th:only-of-type {\n",
       "        vertical-align: middle;\n",
       "    }\n",
       "\n",
       "    .dataframe tbody tr th {\n",
       "        vertical-align: top;\n",
       "    }\n",
       "\n",
       "    .dataframe thead th {\n",
       "        text-align: right;\n",
       "    }\n",
       "</style>\n",
       "<table border=\"1\" class=\"dataframe\">\n",
       "  <thead>\n",
       "    <tr style=\"text-align: right;\">\n",
       "      <th></th>\n",
       "      <th>Adjusted R-Squared</th>\n",
       "      <th>R-Squared</th>\n",
       "      <th>RMSE</th>\n",
       "      <th>Time Taken</th>\n",
       "    </tr>\n",
       "    <tr>\n",
       "      <th>Model</th>\n",
       "      <th></th>\n",
       "      <th></th>\n",
       "      <th></th>\n",
       "      <th></th>\n",
       "    </tr>\n",
       "  </thead>\n",
       "  <tbody>\n",
       "    <tr>\n",
       "      <th>LGBMRegressor</th>\n",
       "      <td>0.17</td>\n",
       "      <td>0.20</td>\n",
       "      <td>0.89</td>\n",
       "      <td>0.23</td>\n",
       "    </tr>\n",
       "    <tr>\n",
       "      <th>HistGradientBoostingRegressor</th>\n",
       "      <td>0.16</td>\n",
       "      <td>0.19</td>\n",
       "      <td>0.89</td>\n",
       "      <td>1.57</td>\n",
       "    </tr>\n",
       "    <tr>\n",
       "      <th>GradientBoostingRegressor</th>\n",
       "      <td>0.11</td>\n",
       "      <td>0.14</td>\n",
       "      <td>0.92</td>\n",
       "      <td>0.18</td>\n",
       "    </tr>\n",
       "    <tr>\n",
       "      <th>RandomForestRegressor</th>\n",
       "      <td>0.10</td>\n",
       "      <td>0.13</td>\n",
       "      <td>0.93</td>\n",
       "      <td>0.58</td>\n",
       "    </tr>\n",
       "    <tr>\n",
       "      <th>XGBRegressor</th>\n",
       "      <td>0.09</td>\n",
       "      <td>0.12</td>\n",
       "      <td>0.93</td>\n",
       "      <td>0.46</td>\n",
       "    </tr>\n",
       "    <tr>\n",
       "      <th>BaggingRegressor</th>\n",
       "      <td>0.06</td>\n",
       "      <td>0.09</td>\n",
       "      <td>0.95</td>\n",
       "      <td>0.11</td>\n",
       "    </tr>\n",
       "    <tr>\n",
       "      <th>SGDRegressor</th>\n",
       "      <td>-0.00</td>\n",
       "      <td>0.03</td>\n",
       "      <td>0.98</td>\n",
       "      <td>0.02</td>\n",
       "    </tr>\n",
       "    <tr>\n",
       "      <th>PoissonRegressor</th>\n",
       "      <td>-0.00</td>\n",
       "      <td>0.03</td>\n",
       "      <td>0.98</td>\n",
       "      <td>0.04</td>\n",
       "    </tr>\n",
       "    <tr>\n",
       "      <th>TweedieRegressor</th>\n",
       "      <td>-0.00</td>\n",
       "      <td>0.03</td>\n",
       "      <td>0.98</td>\n",
       "      <td>0.02</td>\n",
       "    </tr>\n",
       "    <tr>\n",
       "      <th>GeneralizedLinearRegressor</th>\n",
       "      <td>-0.00</td>\n",
       "      <td>0.03</td>\n",
       "      <td>0.98</td>\n",
       "      <td>0.06</td>\n",
       "    </tr>\n",
       "  </tbody>\n",
       "</table>\n",
       "</div>"
      ],
      "text/plain": [
       "                               Adjusted R-Squared  R-Squared  RMSE  Time Taken\n",
       "Model                                                                         \n",
       "LGBMRegressor                                0.17       0.20  0.89        0.23\n",
       "HistGradientBoostingRegressor                0.16       0.19  0.89        1.57\n",
       "GradientBoostingRegressor                    0.11       0.14  0.92        0.18\n",
       "RandomForestRegressor                        0.10       0.13  0.93        0.58\n",
       "XGBRegressor                                 0.09       0.12  0.93        0.46\n",
       "BaggingRegressor                             0.06       0.09  0.95        0.11\n",
       "SGDRegressor                                -0.00       0.03  0.98        0.02\n",
       "PoissonRegressor                            -0.00       0.03  0.98        0.04\n",
       "TweedieRegressor                            -0.00       0.03  0.98        0.02\n",
       "GeneralizedLinearRegressor                  -0.00       0.03  0.98        0.06"
      ]
     },
     "execution_count": 39,
     "metadata": {},
     "output_type": "execute_result"
    }
   ],
   "source": [
    "# test and choose top 10 of model regressor with best results with our data\n",
    "from lazypredict.Supervised import LazyRegressor\n",
    "reg = LazyRegressor(verbose=0, ignore_warnings=False, custom_metric=None)\n",
    "models, predictions = reg.fit(x_train, x_test, y_train, y_test)\n",
    "models.head(10)"
   ]
  },
  {
   "cell_type": "markdown",
   "id": "4a9d8811",
   "metadata": {},
   "source": [
    "#### I choose the  LGBMRegressor base on Lazyprect output to test the result of the model"
   ]
  },
  {
   "cell_type": "code",
   "execution_count": 40,
   "id": "ebba6d3e",
   "metadata": {},
   "outputs": [
    {
     "name": "stdout",
     "output_type": "stream",
     "text": [
      "\n",
      "LGBMRegressor()\n",
      "R2 Score : 0.18730722331572758\n"
     ]
    }
   ],
   "source": [
    "model = ltb.LGBMRegressor()\n",
    "model.fit(x_train, y_train)\n",
    "print(); print(model)\n",
    "\n",
    "expected_y  = y_test\n",
    "predicted_y = model.predict(x_test)\n",
    "print('R2 Score :', metrics.r2_score(expected_y, predicted_y))"
   ]
  },
  {
   "cell_type": "code",
   "execution_count": 41,
   "id": "a28cecbd",
   "metadata": {},
   "outputs": [
    {
     "data": {
      "image/png": "[encoded data removed]",
      "text/plain": [
       "<Figure size 432x288 with 1 Axes>"
      ]
     },
     "metadata": {},
     "output_type": "display_data"
    }
   ],
   "source": [
    "plt.style.use('ggplot')\n",
    "\n",
    "number_of_observations=2500\n",
    "\n",
    "x_ax = range(len(expected_y[:number_of_observations]))\n",
    "\n",
    "plt.plot(x_ax, expected_y[:number_of_observations], label=\"original\")\n",
    "\n",
    "plt.plot(x_ax, predicted_y[:number_of_observations], label=\"predicted\")\n",
    "\n",
    "plt.title(\" Rating test and predicted data\")\n",
    "\n",
    "plt.xlabel('Observation Number')\n",
    "\n",
    "plt.ylabel('Price')\n",
    "\n",
    "plt.legend()\n",
    "\n",
    "plt.show()"
   ]
  },
  {
   "cell_type": "markdown",
   "id": "4621edea",
   "metadata": {},
   "source": [
    "####  Well, the result is not bad but not good. Maybe, I need to adjust the data and model for the better result but i will do that later. Thank you for reading my notebook!!!"
   ]
  }
 ],
 "metadata": {
  "kernelspec": {
   "display_name": "Python 3",
   "language": "python",
   "name": "python3"
  },
  "language_info": {
   "codemirror_mode": {
    "name": "ipython",
    "version": 3
   },
   "file_extension": ".py",
   "mimetype": "text/x-python",
   "name": "python",
   "nbconvert_exporter": "python",
   "pygments_lexer": "ipython3",
   "version": "3.8.8"
  }
 },
 "nbformat": 4,
 "nbformat_minor": 5
}
